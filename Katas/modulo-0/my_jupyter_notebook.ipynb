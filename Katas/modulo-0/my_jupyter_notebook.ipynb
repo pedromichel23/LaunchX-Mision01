{
 "cells": [
  {
   "cell_type": "markdown",
   "metadata": {},
   "source": [
    "## Ejemplo de creacion de un Jupyter notebook"
   ]
  },
  {
   "cell_type": "code",
   "execution_count": 1,
   "metadata": {},
   "outputs": [
    {
     "name": "stdout",
     "output_type": "stream",
     "text": [
      "15\n"
     ]
    }
   ],
   "source": [
    "#Codigo para ejecutar\n",
    "primer_numero = 5\n",
    "segundo_numero = 10\n",
    "\n",
    "resultado = primer_numero + segundo_numero\n",
    "print(resultado)"
   ]
  }
 ],
 "metadata": {
  "interpreter": {
   "hash": "885c827cd822ba134d644bf7ec93dbbe54e503b864e406fdb8a7c16e78521c44"
  },
  "kernelspec": {
   "display_name": "Python 3.8.6 64-bit",
   "language": "python",
   "name": "python3"
  },
  "language_info": {
   "codemirror_mode": {
    "name": "ipython",
    "version": 3
   },
   "file_extension": ".py",
   "mimetype": "text/x-python",
   "name": "python",
   "nbconvert_exporter": "python",
   "pygments_lexer": "ipython3",
   "version": "3.8.6"
  },
  "orig_nbformat": 4
 },
 "nbformat": 4,
 "nbformat_minor": 2
}
